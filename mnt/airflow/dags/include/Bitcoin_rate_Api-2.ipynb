{
 "cells": [
  {
   "cell_type": "code",
   "execution_count": 4,
   "id": "302cc4ec",
   "metadata": {},
   "outputs": [
    {
     "name": "stdout",
     "output_type": "stream",
     "text": [
      "x\n",
      "                  Time               Price\n",
      "0  2022-05-15 05:30:00  30154.582719991184\n",
      "1  2022-05-14 05:30:00   29323.36900889031\n",
      "2  2022-05-13 05:30:00  29074.896069175564\n",
      "3  2022-05-12 05:30:00  29028.394847241183\n",
      "4  2022-05-11 05:30:00   31052.40215101793\n"
     ]
    },
    {
     "name": "stderr",
     "output_type": "stream",
     "text": [
      "100%|███████████████████████████████████████████| 1/1 [00:00<00:00, 3435.14it/s]\n"
     ]
    }
   ],
   "source": [
    "\n",
    "import pandas as pd\n",
    "import json\n",
    "import requests\n",
    "from pandas.io import gbq\n",
    "import pandas\n",
    "from google.cloud import storage\n",
    "import datetime\n",
    "url = \"https://api.coinranking.com/v2/coin/Qwsogvtv82FCd/history\"\n",
    "\n",
    "querystring = {\"referenceCurrencyUuid\":\"yhjMzLPhuIDl\",\"interval\":\"day\", \"timePeriod\":\"5y\"}\n",
    "\n",
    "headers = {\n",
    "\t'x-access-token': 'coinranking24ae053907b1520f5dab1016482c3edc7eef9c6778d583f6',\n",
    "}\n",
    "\n",
    "response = requests.request(\"GET\", url, headers=headers, params=querystring)\n",
    "\n",
    "#print(response.text)\n",
    "response.json()\n",
    "type(response.json())\n",
    "\n",
    "\n",
    "price= None\n",
    "api_input = response.json()\n",
    "daily_btc_price = {}\n",
    "# Looping to get the dictionary from within the JSON input\n",
    "\n",
    "def myprint(json_input):\n",
    "    for key1, value1 in json_input.items():\n",
    "        if isinstance(value1, dict):\n",
    "            for key2, value2 in value1.items():\n",
    "                \n",
    "                if isinstance(value2, list):\n",
    "                   \n",
    "                    for i in range(len(value2)):\n",
    "                        \n",
    "                        price = value2[i]['price']\n",
    "                        date_time = datetime.datetime.fromtimestamp(value2[i]['timestamp'])\n",
    "                        time = date_time.strftime('%Y-%m-%d %H:%M:%S')\n",
    "                        #print(price)\n",
    "                        #print((time))\n",
    "                        daily_btc_price[time] = price\n",
    "                      \n",
    "        else:\n",
    "            print(\"x\")\n",
    "        \n",
    "#calling the function\n",
    "myprint(api_input)\n",
    "df = pd.DataFrame(daily_btc_price.items(), columns=['Time', 'Price'])\n",
    "print(df.head())\n",
    "\n",
    "import pandas as pd\n",
    "from datetime import datetime\n",
    "from google.oauth2.service_account import Credentials\n",
    "\n",
    "target_table = \"B_C_Raw_Data.Bitcoin_price_raw\"\n",
    "project_id = \"bitcoin-and-covid-comparison\"\n",
    "credential_file = \"/opt/airflow/dags/files/bitcoin-and-covid-comparison-0919b2e95809.json\"\n",
    "credential = Credentials.from_service_account_file(credential_file)\n",
    "# Location for BQ job, it needs to match with destination table location\n",
    "job_location = \"US\"\n",
    "\n",
    "\n",
    "df.to_gbq(target_table, project_id=project_id, if_exists='replace',\n",
    "          location=job_location, progress_bar=True, credentials=credential)"
   ]
  },
  {
   "cell_type": "code",
   "execution_count": null,
   "id": "6ce19e5f",
   "metadata": {},
   "outputs": [],
   "source": []
  }
 ],
 "metadata": {
  "kernelspec": {
   "display_name": "Python 3 (ipykernel)",
   "language": "python",
   "name": "python3"
  },
  "language_info": {
   "codemirror_mode": {
    "name": "ipython",
    "version": 3
   },
   "file_extension": ".py",
   "mimetype": "text/x-python",
   "name": "python",
   "nbconvert_exporter": "python",
   "pygments_lexer": "ipython3",
   "version": "3.9.7"
  }
 },
 "nbformat": 4,
 "nbformat_minor": 5
}
