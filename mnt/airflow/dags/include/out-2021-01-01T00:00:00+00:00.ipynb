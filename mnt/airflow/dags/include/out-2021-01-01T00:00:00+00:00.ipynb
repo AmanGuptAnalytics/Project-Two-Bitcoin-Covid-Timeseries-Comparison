{
 "cells": [
  {
   "cell_type": "code",
   "execution_count": 1,
   "id": "65e959c8",
   "metadata": {
    "execution": {
     "iopub.execute_input": "2022-05-17T15:22:13.433574Z",
     "iopub.status.busy": "2022-05-17T15:22:13.432921Z",
     "iopub.status.idle": "2022-05-17T15:22:13.448588Z",
     "shell.execute_reply": "2022-05-17T15:22:13.447550Z"
    },
    "jupyter": {
     "source_hidden": true
    },
    "papermill": {
     "duration": 0.025951,
     "end_time": "2022-05-17T15:22:13.451289",
     "exception": false,
     "start_time": "2022-05-17T15:22:13.425338",
     "status": "completed"
    },
    "tags": [
     "injected-parameters"
    ]
   },
   "outputs": [],
   "source": [
    "# Parameters\n",
    "execution_date = \"2021-01-01T00:00:00+00:00\"\n"
   ]
  },
  {
   "cell_type": "code",
   "execution_count": 2,
   "id": "302cc4ec",
   "metadata": {
    "execution": {
     "iopub.execute_input": "2022-05-17T15:22:13.461632Z",
     "iopub.status.busy": "2022-05-17T15:22:13.460646Z",
     "iopub.status.idle": "2022-05-17T15:22:19.392740Z",
     "shell.execute_reply": "2022-05-17T15:22:19.391612Z"
    },
    "jupyter": {
     "source_hidden": true
    },
    "papermill": {
     "duration": 5.94213,
     "end_time": "2022-05-17T15:22:19.396927",
     "exception": false,
     "start_time": "2022-05-17T15:22:13.454797",
     "status": "completed"
    },
    "tags": []
   },
   "outputs": [
    {
     "name": "stderr",
     "output_type": "stream",
     "text": [
      "/usr/local/lib/python3.7/dist-packages/pandas/compat/_optional.py:138: UserWarning: Pandas requires version '2.7.0' or newer of 'numexpr' (version '2.6.9' currently installed).\n",
      "  warnings.warn(msg, UserWarning)\n"
     ]
    },
    {
     "name": "stdout",
     "output_type": "stream",
     "text": [
      "x\n",
      "                  Time               Price\n",
      "0  2022-05-17 00:00:00   29890.06088346399\n",
      "1  2022-05-16 00:00:00  31326.277499185715\n",
      "2  2022-05-15 00:00:00  30154.582719991184\n",
      "3  2022-05-14 00:00:00   29323.36900889031\n",
      "4  2022-05-13 00:00:00  29074.896069175564\n"
     ]
    },
    {
     "name": "stderr",
     "output_type": "stream",
     "text": [
      "\r",
      "  0%|                                                                                                                       | 0/1 [00:00<?, ?it/s]"
     ]
    },
    {
     "name": "stderr",
     "output_type": "stream",
     "text": [
      "\r",
      "100%|█████████████████████████████████████████████████████████████████████████████████████████████████████████████| 1/1 [00:00<00:00, 6533.18it/s]"
     ]
    },
    {
     "name": "stderr",
     "output_type": "stream",
     "text": [
      "\n"
     ]
    }
   ],
   "source": [
    "\n",
    "import pandas as pd\n",
    "import json\n",
    "import requests\n",
    "from pandas.io import gbq\n",
    "import pandas\n",
    "from google.cloud import storage\n",
    "import datetime\n",
    "url = \"https://api.coinranking.com/v2/coin/Qwsogvtv82FCd/history\"\n",
    "\n",
    "querystring = {\"referenceCurrencyUuid\":\"yhjMzLPhuIDl\",\"interval\":\"day\", \"timePeriod\":\"5y\"}\n",
    "\n",
    "headers = {\n",
    "\t'x-access-token': 'coinranking24ae053907b1520f5dab1016482c3edc7eef9c6778d583f6',\n",
    "}\n",
    "\n",
    "response = requests.request(\"GET\", url, headers=headers, params=querystring)\n",
    "\n",
    "#print(response.text)\n",
    "response.json()\n",
    "type(response.json())\n",
    "\n",
    "\n",
    "price= None\n",
    "api_input = response.json()\n",
    "daily_btc_price = {}\n",
    "# Looping to get the dictionary from within the JSON input\n",
    "\n",
    "def myprint(json_input):\n",
    "    for key1, value1 in json_input.items():\n",
    "        if isinstance(value1, dict):\n",
    "            for key2, value2 in value1.items():\n",
    "                \n",
    "                if isinstance(value2, list):\n",
    "                   \n",
    "                    for i in range(len(value2)):\n",
    "                        \n",
    "                        price = value2[i]['price']\n",
    "                        date_time = datetime.datetime.fromtimestamp(value2[i]['timestamp'])\n",
    "                        time = date_time.strftime('%Y-%m-%d %H:%M:%S')\n",
    "                        #print(price)\n",
    "                        #print((time))\n",
    "                        daily_btc_price[time] = price\n",
    "                      \n",
    "        else:\n",
    "            print(\"x\")\n",
    "        \n",
    "#calling the function\n",
    "myprint(api_input)\n",
    "df = pd.DataFrame(daily_btc_price.items(), columns=['Time', 'Price'])\n",
    "print(df.head())\n",
    "\n",
    "import pandas as pd\n",
    "from datetime import datetime\n",
    "from google.oauth2.service_account import Credentials\n",
    "\n",
    "target_table = \"B_C_Raw_Data.Bitcoin_price_raw\"\n",
    "project_id = \"bitcoin-and-covid-comparison\"\n",
    "credential_file = \"/opt/airflow/dags/files/bitcoin-and-covid-comparison-0919b2e95809.json\"\n",
    "credential = Credentials.from_service_account_file(credential_file)\n",
    "# Location for BQ job, it needs to match with destination table location\n",
    "job_location = \"US\"\n",
    "\n",
    "\n",
    "df.to_gbq(target_table, project_id=project_id, if_exists='replace',\n",
    "          location=job_location, progress_bar=True, credentials=credential)"
   ]
  },
  {
   "cell_type": "code",
   "execution_count": null,
   "id": "6ce19e5f",
   "metadata": {
    "jupyter": {
     "source_hidden": true
    },
    "papermill": {
     "duration": 0.00411,
     "end_time": "2022-05-17T15:22:19.405062",
     "exception": false,
     "start_time": "2022-05-17T15:22:19.400952",
     "status": "completed"
    },
    "tags": []
   },
   "outputs": [],
   "source": []
  }
 ],
 "metadata": {
  "kernelspec": {
   "display_name": "Python 3 (ipykernel)",
   "language": "python",
   "name": "python3"
  },
  "language_info": {
   "codemirror_mode": {
    "name": "ipython",
    "version": 3
   },
   "file_extension": ".py",
   "mimetype": "text/x-python",
   "name": "python",
   "nbconvert_exporter": "python",
   "pygments_lexer": "ipython3",
   "version": "3.7.3"
  },
  "papermill": {
   "default_parameters": {},
   "duration": 8.503339,
   "end_time": "2022-05-17T15:22:20.339144",
   "environment_variables": {},
   "exception": null,
   "input_path": "/opt/airflow/dags/include/Bitcoin_rate_Api-2.ipynb",
   "output_path": "/opt/airflow/dags/include//out-2021-01-01T00:00:00+00:00.ipynb",
   "parameters": {
    "execution_date": "2021-01-01T00:00:00+00:00"
   },
   "start_time": "2022-05-17T15:22:11.835805",
   "version": "2.3.4"
  }
 },
 "nbformat": 4,
 "nbformat_minor": 5
}