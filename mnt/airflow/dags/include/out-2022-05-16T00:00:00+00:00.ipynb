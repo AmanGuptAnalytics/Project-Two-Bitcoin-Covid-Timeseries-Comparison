{
 "cells": [
  {
   "cell_type": "code",
   "execution_count": 1,
   "id": "39a50dce",
   "metadata": {
    "execution": {
     "iopub.execute_input": "2022-05-17T00:00:07.034779Z",
     "iopub.status.busy": "2022-05-17T00:00:07.034235Z",
     "iopub.status.idle": "2022-05-17T00:00:07.049031Z",
     "shell.execute_reply": "2022-05-17T00:00:07.047254Z"
    },
    "jupyter": {
     "source_hidden": true
    },
    "papermill": {
     "duration": 0.024151,
     "end_time": "2022-05-17T00:00:07.052539",
     "exception": false,
     "start_time": "2022-05-17T00:00:07.028388",
     "status": "completed"
    },
    "tags": [
     "injected-parameters"
    ]
   },
   "outputs": [],
   "source": [
    "# Parameters\n",
    "execution_date = \"2022-05-16T00:00:00+00:00\"\n"
   ]
  },
  {
   "cell_type": "code",
   "execution_count": 2,
   "id": "302cc4ec",
   "metadata": {
    "execution": {
     "iopub.execute_input": "2022-05-17T00:00:07.059109Z",
     "iopub.status.busy": "2022-05-17T00:00:07.058683Z",
     "iopub.status.idle": "2022-05-17T00:00:15.547014Z",
     "shell.execute_reply": "2022-05-17T00:00:15.545715Z"
    },
    "jupyter": {
     "source_hidden": true
    },
    "papermill": {
     "duration": 8.494742,
     "end_time": "2022-05-17T00:00:15.549742",
     "exception": false,
     "start_time": "2022-05-17T00:00:07.055000",
     "status": "completed"
    },
    "tags": []
   },
   "outputs": [
    {
     "name": "stderr",
     "output_type": "stream",
     "text": [
      "/usr/local/lib/python3.7/dist-packages/pandas/compat/_optional.py:138: UserWarning: Pandas requires version '2.7.0' or newer of 'numexpr' (version '2.6.9' currently installed).\n",
      "  warnings.warn(msg, UserWarning)\n"
     ]
    },
    {
     "name": "stdout",
     "output_type": "stream",
     "text": [
      "x\n",
      "                  Time               Price\n",
      "0  2022-05-16 00:00:00  31326.277499185715\n",
      "1  2022-05-15 00:00:00  30154.582719991184\n",
      "2  2022-05-14 00:00:00   29323.36900889031\n",
      "3  2022-05-13 00:00:00  29074.896069175564\n",
      "4  2022-05-12 00:00:00  29028.394847241183\n"
     ]
    },
    {
     "name": "stderr",
     "output_type": "stream",
     "text": [
      "\r",
      "  0%|          | 0/1 [00:00<?, ?it/s]"
     ]
    },
    {
     "name": "stderr",
     "output_type": "stream",
     "text": [
      "\r",
      "100%|██████████| 1/1 [00:00<00:00, 5518.82it/s]"
     ]
    },
    {
     "name": "stderr",
     "output_type": "stream",
     "text": [
      "\n"
     ]
    }
   ],
   "source": [
    "\n",
    "import pandas as pd\n",
    "import json\n",
    "import requests\n",
    "from pandas.io import gbq\n",
    "import pandas\n",
    "from google.cloud import storage\n",
    "import datetime\n",
    "url = \"https://api.coinranking.com/v2/coin/Qwsogvtv82FCd/history\"\n",
    "\n",
    "querystring = {\"referenceCurrencyUuid\":\"yhjMzLPhuIDl\",\"interval\":\"day\", \"timePeriod\":\"5y\"}\n",
    "\n",
    "headers = {\n",
    "\t'x-access-token': 'coinranking24ae053907b1520f5dab1016482c3edc7eef9c6778d583f6',\n",
    "}\n",
    "\n",
    "response = requests.request(\"GET\", url, headers=headers, params=querystring)\n",
    "\n",
    "#print(response.text)\n",
    "response.json()\n",
    "type(response.json())\n",
    "\n",
    "\n",
    "price= None\n",
    "api_input = response.json()\n",
    "daily_btc_price = {}\n",
    "# Looping to get the dictionary from within the JSON input\n",
    "\n",
    "def myprint(json_input):\n",
    "    for key1, value1 in json_input.items():\n",
    "        if isinstance(value1, dict):\n",
    "            for key2, value2 in value1.items():\n",
    "                \n",
    "                if isinstance(value2, list):\n",
    "                   \n",
    "                    for i in range(len(value2)):\n",
    "                        \n",
    "                        price = value2[i]['price']\n",
    "                        date_time = datetime.datetime.fromtimestamp(value2[i]['timestamp'])\n",
    "                        time = date_time.strftime('%Y-%m-%d %H:%M:%S')\n",
    "                        #print(price)\n",
    "                        #print((time))\n",
    "                        daily_btc_price[time] = price\n",
    "                      \n",
    "        else:\n",
    "            print(\"x\")\n",
    "        \n",
    "#calling the function\n",
    "myprint(api_input)\n",
    "df = pd.DataFrame(daily_btc_price.items(), columns=['Time', 'Price'])\n",
    "print(df.head())\n",
    "\n",
    "import pandas as pd\n",
    "from datetime import datetime\n",
    "from google.oauth2.service_account import Credentials\n",
    "\n",
    "target_table = \"B_C_Raw_Data.Bitcoin_price_raw\"\n",
    "project_id = \"bitcoin-and-covid-comparison\"\n",
    "credential_file = \"/opt/airflow/dags/files/bitcoin-and-covid-comparison-0919b2e95809.json\"\n",
    "credential = Credentials.from_service_account_file(credential_file)\n",
    "# Location for BQ job, it needs to match with destination table location\n",
    "job_location = \"US\"\n",
    "\n",
    "\n",
    "df.to_gbq(target_table, project_id=project_id, if_exists='replace',\n",
    "          location=job_location, progress_bar=True, credentials=credential)"
   ]
  },
  {
   "cell_type": "code",
   "execution_count": null,
   "id": "6ce19e5f",
   "metadata": {
    "jupyter": {
     "source_hidden": true
    },
    "papermill": {
     "duration": 0.001898,
     "end_time": "2022-05-17T00:00:15.553777",
     "exception": false,
     "start_time": "2022-05-17T00:00:15.551879",
     "status": "completed"
    },
    "tags": []
   },
   "outputs": [],
   "source": []
  }
 ],
 "metadata": {
  "kernelspec": {
   "display_name": "Python 3 (ipykernel)",
   "language": "python",
   "name": "python3"
  },
  "language_info": {
   "codemirror_mode": {
    "name": "ipython",
    "version": 3
   },
   "file_extension": ".py",
   "mimetype": "text/x-python",
   "name": "python",
   "nbconvert_exporter": "python",
   "pygments_lexer": "ipython3",
   "version": "3.7.3"
  },
  "papermill": {
   "default_parameters": {},
   "duration": 11.758783,
   "end_time": "2022-05-17T00:00:16.180289",
   "environment_variables": {},
   "exception": null,
   "input_path": "/opt/airflow/dags/include/Bitcoin_rate_Api-2.ipynb",
   "output_path": "/opt/airflow/dags/include//out-2022-05-16T00:00:00+00:00.ipynb",
   "parameters": {
    "execution_date": "2022-05-16T00:00:00+00:00"
   },
   "start_time": "2022-05-17T00:00:04.421506",
   "version": "2.3.4"
  }
 },
 "nbformat": 4,
 "nbformat_minor": 5
}